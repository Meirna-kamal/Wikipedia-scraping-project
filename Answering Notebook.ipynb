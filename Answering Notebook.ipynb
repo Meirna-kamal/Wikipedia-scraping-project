{
 "cells": [
  {
   "cell_type": "markdown",
   "metadata": {},
   "source": [
    "# Python Technologist Application Test"
   ]
  },
  {
   "cell_type": "markdown",
   "metadata": {},
   "source": [
    "## Problem 1\n"
   ]
  },
  {
   "cell_type": "markdown",
   "metadata": {},
   "source": [
    "[This is](https://ar.wikipedia.org/wiki/%D9%82%D8%A7%D8%A6%D9%85%D8%A9_%D8%A3%D9%81%D8%B6%D9%84_%D9%85%D8%A6%D8%A9_%D8%B1%D9%88%D8%A7%D9%8A%D8%A9_%D8%B9%D8%B1%D8%A8%D9%8A%D8%A9) a Wikipedia webpage listing the 100 best Arabic novels according to the Arab Writers Union. In case it did not open for any reason try [this](https://www.marefa.org/%D9%82%D8%A7%D8%A6%D9%85%D8%A9_%D8%A3%D9%81%D8%B6%D9%84_%D8%A7%D9%84%D9%83%D8%AA%D8%A8_%D8%A7%D9%84%D8%B9%D8%B1%D8%A8%D9%8A%D8%A9) alternative link for the same info \n",
    "\n",
    "Using Python, do the following:\n",
    "\n",
    "1. Scrap the webapge to get the books table and write it to excel file, Keeping all the content from the HTML table including Hyper-links if any.\n",
    "2. Write the content to a Google sheet \n"
   ]
  },
  {
   "cell_type": "markdown",
   "metadata": {},
   "source": [
    "Write your code in the following cell. You are free to add cells as much as you need."
   ]
  },
  {
   "cell_type": "markdown",
   "metadata": {},
   "source": [
    "### Problem 1 Answer\n",
    "---"
   ]
  },
  {
   "cell_type": "code",
   "execution_count": 1,
   "metadata": {},
   "outputs": [],
   "source": [
    "import requests\n",
    "from bs4 import BeautifulSoup\n",
    "\n",
    "# Declaring lists used for storing output data from web scraping\n",
    "novel_names_list = []\n",
    "novel_authors_list = []\n",
    "novel_country_list = []\n",
    "novel_names_urls = []\n",
    "novel_authors_urls = []\n",
    "novel_country_urls = []\n"
   ]
  },
  {
   "cell_type": "code",
   "execution_count": 2,
   "metadata": {},
   "outputs": [],
   "source": [
    "url_id = '%D9%82%D8%A7%D8%A6%D9%85%D8%A9_%D8%A3%D9%81%D8%B6%D9%84_%D9%85%D8%A6%D8%A9_%D8%B1%D9%88%D8%A7%D9%8A%D8%A9_%D8%B9%D8%B1%D8%A8%D9%8A%D8%A9'\n",
    "url = f'https://ar.wikipedia.org/wiki/{url_id}'\n"
   ]
  },
  {
   "cell_type": "code",
   "execution_count": 3,
   "metadata": {},
   "outputs": [],
   "source": [
    "def web_scraper(web_url):\n",
    "    requested_page = requests.get(web_url) # Get Data From WebPage\n",
    "\n",
    "    html_content = BeautifulSoup(requested_page.content, 'html.parser') # Get Html Content from webpage data\n",
    "\n",
    "    table_rows = html_content.find_all('tr') # Get all table rows from Html Content\n",
    "\n",
    "    \"\"\"\n",
    "        Loops on every row to get each cell data\n",
    "\n",
    "        First cell -> Novel Name,\n",
    "        Second cell -> Author Name,\n",
    "        Third cell -> Author's Country\n",
    "\n",
    "        Loops on every cell to get hyperlink of each one\n",
    "\n",
    "        Appends each data to its relevant declared list\n",
    "    \"\"\" \n",
    "    for row in table_rows[1:-1]:\n",
    "        \n",
    "        row_cell = row.find_all('a') # Html of wikipidia page includes each table cell in an anchor tag \n",
    "\n",
    "        #output is a list that contains three elements one for each cell in every row \n",
    "        novel_names_list.append(row_cell[0].text)\n",
    "        novel_authors_list.append(row_cell[1].text)\n",
    "        novel_country_list.append(row_cell[2].text)\n",
    "        \n",
    "        novel_names_urls.append(\n",
    "            f\"https://ar.wikipedia.org{row_cell[0]['href']}\")\n",
    "        novel_authors_urls.append(\n",
    "            f\"https://ar.wikipedia.org{row_cell[1]['href']}\")\n",
    "        \n",
    "        novel_country_urls.append(\n",
    "            f\"https://ar.wikipedia.org{row_cell[2]['href']}\")\n",
    "\n",
    "\n",
    "web_scraper(url)\n"
   ]
  },
  {
   "cell_type": "code",
   "execution_count": 4,
   "metadata": {},
   "outputs": [],
   "source": [
    "import pandas as pd"
   ]
  },
  {
   "cell_type": "code",
   "execution_count": 5,
   "metadata": {},
   "outputs": [],
   "source": [
    "\"\"\"\n",
    "    Creates a pandas dataframe using the output data from webscraping\n",
    "    Headers of dataframe are -> الروايه,المؤلف,البلد like the headers in the wikipidia table \n",
    "    each row in data frame contain -> novel name, novel author, novel country\n",
    "    head of dataframe : \n",
    "               الروايه                 المؤلف          البلد                 \n",
    "1               الثلاثية              نجيب محفوظ          مصر\n",
    "2            البحث عن وليد مسعود    جبرا إبراهيم جبرا      فلسطين\n",
    "3               شرف            صنع الله إبراهيم        مصر\n",
    "4               الحرب في بر مصر          يوسف القعيد         مصر\n",
    "5             رجال في الشمس            غسان كنفاني        فلسطين\n",
    "...\n",
    "\n",
    "This function will be used while making excel sheet and google sheet\n",
    "\"\"\" \n",
    "def create_dataframe():\n",
    "    df = pd.DataFrame({'الروايه': novel_names_list,\n",
    "                       'المؤلف': novel_authors_list,\n",
    "                       'البلد': novel_country_list})\n",
    "    \n",
    "    df.index += 1 # shifts dataframe so that it starts from 1 not 0 such as the wikipidia table\n",
    "    \n",
    "    return df\n",
    "\n",
    "#Run these only if you need to print the dataframe \n",
    "# data=create_dataframe()\n",
    "# print (data.head) "
   ]
  },
  {
   "cell_type": "code",
   "execution_count": 6,
   "metadata": {},
   "outputs": [],
   "source": [
    "# Used to format excel sheet to fit arabic content \n",
    "def format_excel_sheet(workbook, worksheet):\n",
    "    format_right_to_left = workbook.add_format({'reading_order': 2}) # Add the cell formats.\n",
    "\n",
    "    worksheet.right_to_left() # Change the direction for the worksheet.\n",
    "\n",
    "    worksheet.set_column('B:D', 20, format_right_to_left)# Make the column wider for visibility and add the reading order format.\n"
   ]
  },
  {
   "cell_type": "markdown",
   "metadata": {},
   "source": [
    "The following function creates an excel sheet without the hyperlinks in the wikipidia page, however in order to create an excel sheet with all the hyperlinks in the table I needed to add a hyperlink function in each dataframe element as the following: \n",
    "\n",
    "'=HYPERLINK(\"https://www.google.com\", \"google\")'\n",
    "\n",
    "Which I did and the output was the excel sheet __Final_with_links.xlsx__ which includes clickable cells to the refrenced url\n",
    "\n",
    "However, I was unable to read this excel sheet (__Final_with_links.xlsx__) in question 2 although I searched alot and even asked on stack over flow why im unable to read it after creating it -> [here](https://stackoverflow.com/questions/73360749/reading-an-excel-sheet-containing-hyperlinks-using-pythons-pandas-read-excel/73362816#73362816)\n",
    "But I was unable to solve the problem, I was also unable to create hyperlinks in the excel sheet with any other way although I tried many ways.\n"
   ]
  },
  {
   "cell_type": "code",
   "execution_count": 7,
   "metadata": {},
   "outputs": [],
   "source": [
    "'''\n",
    "Main function that creates excel sheet\n",
    "After calling this function, Final_without_links.xlsx file will be created in the same directory\n",
    "Excel sheet is created from dataframe containing all data in wikipidia table\n",
    "'''\n",
    "def create_excel_from_dataframe():\n",
    "    df = create_dataframe()\n",
    "\n",
    "    writer = pd.ExcelWriter('Final_without_links.xlsx', engine='xlsxwriter') # Create a Pandas Excel writer using XlsxWriter as the engine.\n",
    "\n",
    "    df.to_excel(writer, sheet_name='Sheet1') # Convert the dataframe to an XlsxWriter Excel object.\n",
    "\n",
    "    # Get the xlsxwriter workbook and worksheet objects.\n",
    "    workbook = writer.book\n",
    "    worksheet = writer.sheets['Sheet1']\n",
    "\n",
    "    format_excel_sheet(workbook, worksheet)\n",
    "\n",
    "    writer.save()\n",
    "\n",
    "\n",
    "create_excel_from_dataframe()\n"
   ]
  },
  {
   "cell_type": "markdown",
   "metadata": {},
   "source": [
    "Source code in file googleFile is from [this link](https://learndataanalysis.org/creating-google-sheets-file-google-sheets-api-in-python-part-2/)\n",
    "\n",
    "Client secret file can be downloaded from [google sheet api](https://developers.google.com/sheets/api) after being authenticated on google cloud \n",
    "\n",
    "[This](https://docs.google.com/spreadsheets/d/1295hSdHmQwGPOMSG4YKh-6PzIvTqYXOg2b4MCpzvxC0/edit#gid=982029778) is the __link to the google sheet__ i created containing all the data from the wikipidia table"
   ]
  },
  {
   "cell_type": "code",
   "execution_count": 8,
   "metadata": {},
   "outputs": [],
   "source": [
    "from googleFile import Create_Service"
   ]
  },
  {
   "cell_type": "code",
   "execution_count": 9,
   "metadata": {},
   "outputs": [],
   "source": [
    "# Function creates google sheet service with the sheet properties\n",
    "def create_google_sheet():\n",
    "    # Parameters needed to create google sheet service\n",
    "    CLIENT_SECRET_FILE = 'client_secret_json.json'\n",
    "    API_NAME = 'sheets'\n",
    "    API_VERSION = 'v4'\n",
    "    SCOPES = ['https://www.googleapis.com/auth/spreadsheets']\n",
    "    google_sheet_service = Create_Service(\n",
    "        CLIENT_SECRET_FILE, API_NAME, API_VERSION, SCOPES)\n",
    "    \n",
    "    # Specifying sheet properties (title, direction)\n",
    "    sheet_body = {\n",
    "        'properties': {\n",
    "            'title': 'Best Arabic Novels',\n",
    "        },\n",
    "        'sheets': [\n",
    "            {\n",
    "                'properties': {\n",
    "                    'title': 'Sheet 1',\n",
    "                    'rightToLeft': True\n",
    "                }\n",
    "            }\n",
    "        ]\n",
    "    }\n",
    "    sheet_file = google_sheet_service.spreadsheets().create(body=sheet_body).execute()\n",
    "    return google_sheet_service, sheet_file"
   ]
  },
  {
   "cell_type": "code",
   "execution_count": 10,
   "metadata": {},
   "outputs": [
    {
     "name": "stdout",
     "output_type": "stream",
     "text": [
      "client_secret_json.json-sheets-v4-(['https://www.googleapis.com/auth/spreadsheets'],)\n",
      "sheets service created successfully\n",
      "https://docs.google.com/spreadsheets/d/1y4FNnVMK4Htu_hFGHEcI8-4j1BSO-5OCe2qoWMnJTUo/edit\n"
     ]
    }
   ],
   "source": [
    "'''\n",
    "Function appends dataframe content to google sheet created\n",
    "Each run will create a different google sheet and print the url of it\n",
    "'''\n",
    "def add_df_to_google_sheet():\n",
    "    df = create_dataframe()\n",
    "    google_sheet_service,sheet_file=create_google_sheet()\n",
    "    \n",
    "    # Adding data to google sheet\n",
    "    google_sheet_service.spreadsheets().values().append(\n",
    "        spreadsheetId=sheet_file['spreadsheetId'],\n",
    "        valueInputOption='RAW',\n",
    "        range='DF1:A1',\n",
    "        body=dict(\n",
    "            majorDimension='ROWS',\n",
    "            values=df.T.reset_index().T.values.tolist()),\n",
    "    ).execute() \n",
    "    print(sheet_file['spreadsheetUrl'])\n",
    "    \n",
    "add_df_to_google_sheet()"
   ]
  },
  {
   "cell_type": "markdown",
   "metadata": {},
   "source": [
    "## Problem 2 \n",
    "\n",
    "Create REST APIs in Python using Flask to read (Get) and write (Post, Delete, Put) the local excel file from the previous problem. Please make sure to bundle all the API dependencies to be uasble. Deploying the API to Heroku would be a big plus."
   ]
  },
  {
   "cell_type": "markdown",
   "metadata": {},
   "source": [
    "Write your code in the following cell. You are free to add cells as much as you need."
   ]
  },
  {
   "cell_type": "markdown",
   "metadata": {},
   "source": [
    "### Problem 2 Answer\n",
    "------\n",
    "Please run file [this file](novel_api.py) in order to run the flask application/server, the following cells contain the code of the flask application but __will not run the server__"
   ]
  },
  {
   "cell_type": "code",
   "execution_count": 11,
   "metadata": {},
   "outputs": [],
   "source": [
    "from flask_restful import Api, reqparse, abort\n",
    "from flask import Flask\n"
   ]
  },
  {
   "cell_type": "code",
   "execution_count": 12,
   "metadata": {},
   "outputs": [],
   "source": [
    "#Reads excel sheet and converts it to a Dataframe\n",
    "def convert_excel_to_df():\n",
    "    df = pd.read_excel('Final_without_links.xlsx')\n",
    "    del df['Unnamed: 0'] #Remove unneeded column \"unnamed:0\" from dataframe\n",
    "    return df"
   ]
  },
  {
   "cell_type": "code",
   "execution_count": 13,
   "metadata": {},
   "outputs": [],
   "source": [
    "def format_excel(writer, df):\n",
    "    df.to_excel(writer, sheet_name='Sheet1')\n",
    "\n",
    "    # Get the xlsxwriter workbook and worksheet objects.\n",
    "    workbook = writer.book\n",
    "    worksheet = writer.sheets['Sheet1']\n",
    "    \n",
    "    format_excel_sheet(workbook,worksheet)\n",
    "    writer.save()"
   ]
  },
  {
   "cell_type": "code",
   "execution_count": 14,
   "metadata": {},
   "outputs": [],
   "source": [
    "# Create flask application and API\n",
    "app = Flask(__name__)\n",
    "api = Api(app)\n"
   ]
  },
  {
   "cell_type": "code",
   "execution_count": 15,
   "metadata": {},
   "outputs": [
    {
     "data": {
      "text/plain": [
       "<flask_restful.reqparse.RequestParser at 0x186932a4670>"
      ]
     },
     "execution_count": 15,
     "metadata": {},
     "output_type": "execute_result"
    }
   ],
   "source": [
    "novel_args = reqparse.RequestParser() #Define novel arguments\n",
    "\n",
    "#Add three novel arguments (novel name, author name, author country)\n",
    "novel_args.add_argument(\n",
    "    \"الروايه\", type=str, help=\"Name of the novel\", required=True)\n",
    "novel_args.add_argument(\n",
    "    \"المؤلف\", type=str, help=\"Name of the author\", required=True)\n",
    "novel_args.add_argument(\n",
    "    \"البلد\", type=str, help=\"Country of author\", required=True)\n"
   ]
  },
  {
   "cell_type": "code",
   "execution_count": 16,
   "metadata": {},
   "outputs": [],
   "source": [
    "# If index sent in request is larger than dataframe length -> abort without crashing api\n",
    "def abort_if_index_out_of_range(index, df):\n",
    "    if index > len(df):\n",
    "        abort(404, message=\"Novel Index out of range\")\n"
   ]
  },
  {
   "cell_type": "code",
   "execution_count": 17,
   "metadata": {},
   "outputs": [],
   "source": [
    "# Home page of flask app\n",
    "@app.route(\"/\")\n",
    "def index():\n",
    "    return (\"Best-Arabic-Novels Api\")"
   ]
  },
  {
   "cell_type": "code",
   "execution_count": 18,
   "metadata": {},
   "outputs": [],
   "source": [
    "'''\n",
    "Rest Api to read/get data from local excel sheet\n",
    "takes novel id as a path variable\n",
    "returns json response with data requested\n",
    "sends status code 200 at successful get requests\n",
    "'''\n",
    "\n",
    "@app.route('/Novel/<int:novel_id>', methods=['GET'])\n",
    "def get_novel(novel_id):\n",
    "    df = convert_excel_to_df()\n",
    "    abort_if_index_out_of_range(novel_id, df)\n",
    "\n",
    "    # minus 1 from id in dataframe to shift index from zero to match id in excel sheet\n",
    "    requested_novel_name = f\"{ (df.get('الروايه')[novel_id-1])}\"\n",
    "    requested_novel_author = f\"{ (df.get('المؤلف')[novel_id-1])}\"\n",
    "    requested_novel_country = f\"{ (df.get('البلد')[novel_id-1])}\"\n",
    "    return {(\"الروايه\"): requested_novel_name,\n",
    "            (\"المؤلف\"): requested_novel_author,\n",
    "            (\"البلد\"): requested_novel_country}\n"
   ]
  },
  {
   "cell_type": "code",
   "execution_count": 19,
   "metadata": {},
   "outputs": [],
   "source": [
    "'''\n",
    "Rest Api to post data to local excel sheet\n",
    "takes three arguments -> novel name, author name, author country\n",
    "returns json response with posted data and status code\n",
    "sends status code 201 at successful post requests\n",
    "'''\n",
    "\n",
    "@app.route('/Novel', methods=['POST'])\n",
    "def post_novel():\n",
    "    args = novel_args.parse_args()\n",
    "\n",
    "    df = convert_excel_to_df()\n",
    "    df.loc[len(df), df.columns] = args['الروايه'], args['المؤلف'], args['البلد']\n",
    "    df.index = df.index + 1  # shifting index\n",
    "    writer = pd.ExcelWriter(\n",
    "        'Final_without_links.xlsx', engine='xlsxwriter')\n",
    "    format_excel(writer, df)\n",
    "\n",
    "    return {(\"الروايه\"): (args['الروايه']),\n",
    "            (\"المؤلف\"):  (args['المؤلف']),\n",
    "            (\"البلد\"):  (args['البلد'])}, 201\n"
   ]
  },
  {
   "cell_type": "code",
   "execution_count": 20,
   "metadata": {},
   "outputs": [],
   "source": [
    "'''\n",
    "Rest Api to put data to local excel sheet at refrenced novel id\n",
    "takes refrenced novel id as path variable\n",
    "takes three arguments -> novel name, author name, author country\n",
    "returns json response with data put and status code\n",
    "sends status code 201 at successful post requests\n",
    "'''\n",
    "\n",
    "@app.route('/Novel/<int:novel_id>', methods=['PUT'])\n",
    "def put_novel(novel_id):\n",
    "    args = novel_args.parse_args()\n",
    "    df = convert_excel_to_df()\n",
    "    abort_if_index_out_of_range(novel_id, df)\n",
    "\n",
    "    df.loc[novel_id-1] = args['الروايه'], args['المؤلف'], args['البلد']\n",
    "    df.index = df.index + 1  # shifting index\n",
    "    writer = pd.ExcelWriter(\n",
    "        'Final_without_links.xlsx', engine='xlsxwriter')\n",
    "    format_excel(writer, df)\n",
    "\n",
    "    return {(\"الروايه\"):  (args['الروايه']),\n",
    "            (\"المؤلف\"):  (args['المؤلف']),\n",
    "            (\"البلد\"):  (args['البلد'])}, 201\n"
   ]
  },
  {
   "cell_type": "code",
   "execution_count": 21,
   "metadata": {},
   "outputs": [],
   "source": [
    "'''\n",
    "Rest Api to delete data from local excel sheet at refrenced novel id\n",
    "takes refrenced novel id as path variable\n",
    "returns status code\n",
    "sends status code 204 at successful delete requests\n",
    "'''\n",
    "\n",
    "@app.route('/Novel/<int:novel_id>', methods=['DELETE'])\n",
    "def delete_novel(novel_id):\n",
    "    df = convert_excel_to_df()\n",
    "    abort_if_index_out_of_range(novel_id, df)\n",
    "\n",
    "    df = df.drop(df.index[novel_id-1])  # drops refrenced id row from dataframe\n",
    "    df = df.reset_index(drop=True)  # resets indices of dataframe\n",
    "    df.index = df.index + 1\n",
    "    writer = pd.ExcelWriter(\n",
    "        'Final_without_links.xlsx', engine='xlsxwriter')\n",
    "    format_excel(writer, df)\n",
    "    return '', 204\n"
   ]
  },
  {
   "cell_type": "markdown",
   "metadata": {},
   "source": [
    "### Test cases for local API \n",
    "After running [novel api file](novel_api.py) the local server will be http://127.0.0.1:5000/\n",
    "\n",
    "This Api can __get__, __post__ ,__put__ and __delete__ from the local excel sheet.\n",
    "\n",
    "The following test cases applied on the local api do the following:\n",
    "\n",
    "1. Get first element\n",
    "2. Delete first element\n",
    "3. Get first element again after index 1 has been deleted\n",
    "4. Put request to edit index 50\n",
    "5. Gets index 50\n",
    "6. Posts to the end of the local excel sheet\n",
    "\n",
    "Cases tested on __postman__ or __jupyter notebook__ dont need arabic words to be reshaped\n",
    "\n",
    "Cases tested in __terminal__ need arabic words to be reshaped by passing the arabic word to the function Arabic_reshape()"
   ]
  },
  {
   "cell_type": "code",
   "execution_count": 22,
   "metadata": {},
   "outputs": [
    {
     "name": "stdout",
     "output_type": "stream",
     "text": [
      "Get response for novel 1 = {'البلد': 'مصر', 'الروايه': 'الثلاثية', 'المؤلف': 'نجيب محفوظ'} and status code is 200\n",
      "Status code for deleting novel 1 is 204\n",
      "Get response for novel 1 = {'البلد': 'فلسطين', 'الروايه': 'البحث عن وليد مسعود', 'المؤلف': 'جبرا إبراهيم جبرا'} and status code is 200\n",
      "Put response for novel 50 = {'البلد': 'مصر', 'الروايه': 'الحرافيش', 'المؤلف': 'نجيب محفوظ'} with status code 201\n",
      "Get response for novel 50 = {'البلد': 'مصر', 'الروايه': 'الحرافيش', 'المؤلف': 'نجيب محفوظ'} and status code is 200\n",
      "Put response for novel 50 = {'البلد': 'مصر', 'الروايه': 'ثرثرة فوق النيل', 'المؤلف': 'نجيب محفوظ'} with status code 201\n"
     ]
    }
   ],
   "source": [
    "def test_cases_for_api(base_url):\n",
    "    novel_id=1\n",
    "    response_get=requests.get(base_url+f\"Novel/{novel_id}\") #Gets first novel\n",
    "    print (f\"Get response for novel {novel_id} = {response_get.json()} and status code is {response_get.status_code}\")\n",
    "\n",
    "    response_del=requests.delete(base_url+f\"Novel/{novel_id}\") #Deletes first novel\n",
    "    print(f\"Status code for deleting novel {novel_id} is {response_del.status_code}\")\n",
    "\n",
    "    response_get=requests.get(base_url+f\"Novel/{novel_id}\") #Gets first novel after we deleted novel at index 1\n",
    "    print (f\"Get response for novel {novel_id} = {response_get.json()} and status code is {response_get.status_code}\")\n",
    "\n",
    "\n",
    "    novel_id=50\n",
    "    response_put=requests.put(base_url+f\"Novel/{novel_id}\",{'الروايه':'الحرافيش','المؤلف':'نجيب محفوظ','البلد':'مصر'}) #edits novel at index 50\n",
    "    print(f\"Put response for novel {novel_id} = {response_put.json()} with status code {response_put.status_code}\")\n",
    "\n",
    "    response_get=requests.get(base_url+f\"Novel/{novel_id}\") #Gets novel at index 50\n",
    "    print (f\"Get response for novel {novel_id} = {response_get.json()} and status code is {response_get.status_code}\")\n",
    "\n",
    "\n",
    "    response_post=requests.post(base_url+\"Novel\",{'الروايه':'ثرثرة فوق النيل','المؤلف':'نجيب محفوظ','البلد':'مصر'}) #posts new novel at the end of excel file\n",
    "    print(f\"Put response for novel {novel_id} = {response_post.json()} with status code {response_post.status_code}\")\n",
    "    \n",
    "\n",
    "base_url='http://127.0.0.1:5000/'\n",
    "test_cases_for_api(base_url)"
   ]
  },
  {
   "cell_type": "markdown",
   "metadata": {},
   "source": [
    "### Test cases for Heroku API \n",
    "API Deployed to heroku and application link is: https://heroku-novels-demo.herokuapp.com/\n",
    "\n",
    "This Api can __get__ and __delete__ from excel sheet uploaded in [github repository](https://github.com/Meirna-kamal/heroku-app).\n",
    "\n",
    "__post__ and __put__ functions have been deployed but they return a bad request (status code 400), I tried searching for the reason but unfortuntly i was unable to solve the issue\n",
    "\n",
    "The following test cases applied on the deployed heroku api do the following:\n",
    "\n",
    "1. Get first element\n",
    "2. Delete first element\n",
    "3. Get first element again after index 1 has been deleted\n",
    "4. Put request to edit index 50 -> status code 400 (bad request)\n",
    "5. Gets index 50\n",
    "6. Posts to the end of the local excel sheet -> status code 400 bad request"
   ]
  },
  {
   "cell_type": "code",
   "execution_count": 23,
   "metadata": {},
   "outputs": [
    {
     "name": "stdout",
     "output_type": "stream",
     "text": [
      "Get response for novel 1 = {'البلد': 'مصر', 'الروايه': 'الثلاثية', 'المؤلف': 'نجيب محفوظ'} and status code is 200\n",
      "Status code for deleting novel 1 is 204\n",
      "Get response for novel 1 = {'البلد': 'فلسطين', 'الروايه': 'البحث عن وليد مسعود', 'المؤلف': 'جبرا إبراهيم جبرا'} and status code is 200\n",
      "status code 400\n",
      "Get response for novel 50 = {'البلد': 'مصر', 'الروايه': 'أيام الإنسان السبعة', 'المؤلف': 'عبد الحكيم قاسم'} and status code is 200\n",
      "status code 400\n"
     ]
    }
   ],
   "source": [
    "import requests\n",
    "\n",
    "def test_cases_for_api(base_url):\n",
    "    novel_id=1\n",
    "    response_get=requests.get(base_url+f\"Novel/{novel_id}\")\n",
    "    print (f\"Get response for novel {novel_id} = {response_get.json()} and status code is {response_get.status_code}\")\n",
    "\n",
    "    response_del=requests.delete(base_url+f\"Novel/{novel_id}\")\n",
    "    print(f\"Status code for deleting novel {novel_id} is {response_del.status_code}\")\n",
    "\n",
    "    response_get=requests.get(base_url+f\"Novel/{novel_id}\")\n",
    "    print (f\"Get response for novel {novel_id} = {response_get.json()} and status code is {response_get.status_code}\")\n",
    "\n",
    "    novel_id=50\n",
    "    response_put=requests.put(base_url+f\"Novel/{novel_id}\",{'الروايه':'الحرافيش','المؤلف':'نجيب محفوظ','البلد':'مصر'})\n",
    "    print(f\"status code {response_put.status_code}\")\n",
    "\n",
    "    response_get=requests.get(base_url+f\"Novel/{novel_id}\")\n",
    "    print (f\"Get response for novel {novel_id} = {response_get.json()} and status code is {response_get.status_code}\")\n",
    "\n",
    "    response_post=requests.post(base_url+\"Novel\",{'الروايه':'ثرثرة فوق النيل','المؤلف':'نجيب محفوظ','البلد':'مصر'})\n",
    "    # print(f\"Put response for novel {novel_id} = {response_post.json()} with status code {response_post.status_code}\")\n",
    "    print(f\"status code {response_post.status_code}\")\n",
    "    \n",
    "\n",
    "base_url='https://heroku-novels-demo.herokuapp.com/'\n",
    "test_cases_for_api(base_url)"
   ]
  },
  {
   "cell_type": "markdown",
   "metadata": {},
   "source": [
    "## Problem 3\n",
    "\n",
    "Write a tool to create a PDF cover for the books, following the attached example \"book-cover-sample.pdf\". Considering the following:\n",
    "\n",
    "    1. The QR code should embed the book hyperlink from Wikipedia.\n",
    "    2. The QR code should be clickable to let the users acess it by clicking on it.\n",
    "    3. Include all the covers in one directory and compress it in ZIP format.\n",
    "    "
   ]
  },
  {
   "cell_type": "markdown",
   "metadata": {},
   "source": [
    "Write your code in the following cell. You are free to add cells as much as you need."
   ]
  },
  {
   "cell_type": "markdown",
   "metadata": {},
   "source": [
    "### Problem 3 Answer\n",
    "---"
   ]
  },
  {
   "cell_type": "code",
   "execution_count": 24,
   "metadata": {},
   "outputs": [],
   "source": [
    "import qrcode"
   ]
  },
  {
   "cell_type": "code",
   "execution_count": 25,
   "metadata": {},
   "outputs": [],
   "source": [
    "# Function that creates QR code for each novel\n",
    "def create_qr_code(novel_index):\n",
    "    qr = qrcode.QRCode()\n",
    "    novel_url = novel_names_urls[novel_index]\n",
    "    qr.add_data(novel_url) # Adds link of novel to qr code to route directly to link when qr code is scanned\n",
    "    qr.make(fit=True)\n",
    "\n",
    "    img = qr.make_image(fill='black', back_color='white')\n",
    "    img.save('qr.png')\n"
   ]
  },
  {
   "cell_type": "code",
   "execution_count": 26,
   "metadata": {},
   "outputs": [],
   "source": [
    "import os"
   ]
  },
  {
   "cell_type": "code",
   "execution_count": 27,
   "metadata": {},
   "outputs": [],
   "source": [
    "#Deletes qr image after each iteration to create each pdf as img is no longer needed\n",
    "def delete_qr_image_from_directory():\n",
    "    os.remove(\"qr.png\")"
   ]
  },
  {
   "cell_type": "code",
   "execution_count": 28,
   "metadata": {},
   "outputs": [],
   "source": [
    "import shutil"
   ]
  },
  {
   "cell_type": "code",
   "execution_count": 29,
   "metadata": {},
   "outputs": [],
   "source": [
    "#Create Novel pdfs folder to save pdfs\n",
    "def create_pdfs_folder():\n",
    "    os.makedirs(\"novel_pdfs\")"
   ]
  },
  {
   "cell_type": "code",
   "execution_count": 30,
   "metadata": {},
   "outputs": [],
   "source": [
    "# Compresses Novel pdfs folder\n",
    "def compress_novel_folder(zip_name,folder_name):\n",
    "    shutil.make_archive(zip_name, 'zip', folder_name)"
   ]
  },
  {
   "cell_type": "code",
   "execution_count": 31,
   "metadata": {},
   "outputs": [],
   "source": [
    "import arabic_reshaper\n",
    "from bidi.algorithm import get_display"
   ]
  },
  {
   "cell_type": "code",
   "execution_count": 32,
   "metadata": {},
   "outputs": [],
   "source": [
    "'''\n",
    "Corrects arabic letters direction and character shape\n",
    "Used for printing in terminal and in creating pdfs\n",
    "\n",
    "example ->\n",
    "When printing ذهب الطالب الى المدرسة\n",
    "ط°ظ‡ط¨ ط§ظ„ط·ط§ظ„ط¨ ط§ظ„ظ‰ ط§ظ„ظ…ط¯ط±ط³ط© -> ذهب الطالب الى المدرسة\n",
    "'''\n",
    "def arabic_reshape(arabic_word):\n",
    "    shape_corrected_word = arabic_reshaper.reshape(arabic_word)\n",
    "    direction_corrected_word = get_display(shape_corrected_word)\n",
    "    return direction_corrected_word"
   ]
  },
  {
   "cell_type": "code",
   "execution_count": 33,
   "metadata": {},
   "outputs": [],
   "source": [
    "from fpdf import FPDF\n",
    "from warnings import filterwarnings"
   ]
  },
  {
   "cell_type": "code",
   "execution_count": 35,
   "metadata": {},
   "outputs": [],
   "source": [
    "\n",
    "'''\n",
    "Main Function that creates pdfs\n",
    "Creates zip folder(Compressed_novels.zip) containing a pdf file for each novel\n",
    "Each pdf contains a clickable qr code that upon clicking or scanning redirects to the novels webpage on wikipidia \n",
    "''' \n",
    "def create_pdfs():\n",
    "    create_pdfs_folder()\n",
    "    for i in range(len(novel_names_list)): #loops on each novel to create its pdf\n",
    "        create_qr_code(i)\n",
    "        pdf = FPDF() \n",
    "        pdf.add_page() #Adding blank page to pdf\n",
    "\n",
    "        pdf.add_font(\"NotoSansArabic\", '', 'NotoSansArabic-Regular.ttf', uni=True) #Adding font suitable for arabic characters\n",
    "        pdf.set_font('NotoSansArabic', size=40) #Applying font and font size to pdf\n",
    "\n",
    "        pdf.image('qr.png', 50, 60, 110, 110) #Adding Qr image to pdf\n",
    "        pdf.link(58, 68, 95, 93, novel_names_urls[i]) #Adding a space that contains the novel link over the qr img in order to be clickable \n",
    "\n",
    "        # moving 20*10 cell 170 downwards, 85 right, and centering its content in its box \n",
    "        pdf.ln(170)\n",
    "        pdf.cell(85)\n",
    "        pdf.cell(20, 10, arabic_reshape(novel_names_list[i]), 0, 0, 'C') #Adding novel name in cell\n",
    "\n",
    "        # moving 20*10 cell 20 downwards, 85 right, and centering its content in its box \n",
    "        pdf.ln(20)\n",
    "        pdf.cell(85)\n",
    "        pdf.cell(20, 10, arabic_reshape(novel_authors_list[i]), 0, 0, 'C') #Adding author name in cell\n",
    "\n",
    "        pdf.output(f'novel_pdfs/{novel_names_list[i]}.pdf') #Saves pdf to novel_pdfs folder, with the name of the novel\n",
    "        \n",
    "        delete_qr_image_from_directory()\n",
    "    compress_novel_folder('compressed_novels','novel_pdfs') #compressing novel_pdfs to compressed_novels\n",
    "filterwarnings('ignore')\n",
    "create_pdfs()"
   ]
  }
 ],
 "metadata": {
  "kernelspec": {
   "display_name": "Python 3.9.7 64-bit",
   "language": "python",
   "name": "python3"
  },
  "language_info": {
   "codemirror_mode": {
    "name": "ipython",
    "version": 3
   },
   "file_extension": ".py",
   "mimetype": "text/x-python",
   "name": "python",
   "nbconvert_exporter": "python",
   "pygments_lexer": "ipython3",
   "version": "3.9.7"
  },
  "vscode": {
   "interpreter": {
    "hash": "08ac30a6a1fd2e576b33e03f7d61c3a285d7ee0582c2dd23dde6343ef303ebe9"
   }
  }
 },
 "nbformat": 4,
 "nbformat_minor": 4
}
